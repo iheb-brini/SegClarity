{
 "cells": [
  {
   "cell_type": "markdown",
   "id": "46a7ee11",
   "metadata": {},
   "source": [
    "## Notebook Description: Model Predictions on Cityscapes\n",
    "\n",
    "This Jupyter notebook demonstrates the evaluation and visualization of trained segmentation models on the Cityscapes dataset. The notebook:\n",
    "#\n",
    "**Purpose**: Tests and visualizes predictions from pre-trained segmentation models UNet on urban street scene images from Cityscapes.\n",
    "#\n",
    "**Key Features**:\n",
    "- Loads pre-trained models from checkpoints for the Cityscapes dataset\n",
    "- Supports both from-scratch and fine-tuned model variants\n",
    "- Generates predictions on the Cityscapes validation set and compares them with ground truth masks\n",
    "- Provides side-by-side visualization of original images, ground truth masks, and model predictions\n",
    "#\n",
    "**Workflow**:\n",
    "1. Configures dataset parameters and model paths for Cityscapes\n",
    "2. Processes validation data and generates predictions\n",
    "3. Visualizes results comparing original images, ground truth, and predictions\n",
    "#\n",
    "**Dataset**: Works with the Cityscapes semantic segmentation dataset, which contains 20 output classes for urban scene understanding.\n"
   ]
  },
  {
   "cell_type": "code",
   "execution_count": null,
   "id": "c8de6db1",
   "metadata": {},
   "outputs": [],
   "source": [
    "from pathlib import Path\n",
    "import sys\n",
    "sys.path.append(\"..\")\n",
    "absolute_path = Path('..')\n",
    "\n",
    "\n",
    "import matplotlib.pyplot as plt\n",
    "import numpy as np\n",
    "from Modules.CityscapeDataset.tools import decode_segmap\n",
    "# %%\n",
    "import os\n",
    "from sys import path\n",
    "path.append('..')\n",
    "from Modules.Architecture import generate_model\n",
    "from Modules.ModelXAI import generate_XAI_model\n",
    "\n",
    "# generate dataloader for cityscapes\n",
    "from Modules.CityscapeDataset.core import create_cityscapes_dataloaders\n",
    "from Modules.CityscapeDataset.tools import decode_segmap\n",
    "\n",
    "dataset_type='cityscapes'\n",
    "\n",
    "_, val_loader, _  = create_cityscapes_dataloaders(\n",
    "    root=absolute_path / \"datasets\" / \"cityscapes\",\n",
    "    batch_size=1,\n",
    "    num_workers=2,\n",
    "    augment_train=None,\n",
    ")\n",
    "\n",
    "\n",
    "base_dir: str = f\"../datasets/{dataset_type}\"\n",
    "device = 'cuda:0'\n",
    "model_type = 'unet'\n",
    "\n",
    "OUT_CHANNELS = 20\n",
    "models_path = f\"../models/{dataset_type}/{model_type}\"\n",
    "model_name = f\"best_model.pth\"\n",
    "\n",
    "\n",
    "print(f\"Loading model from {models_path}\")\n",
    "print(f\"Model name: {model_name}\")\n",
    "\n",
    "\n",
    "# %%\n",
    "print(\"Loading model...\")\n",
    "model = generate_model(\n",
    "    model_type= model_type, \n",
    "    out_channels=OUT_CHANNELS, \n",
    "    load_from_checkpoint=True,\n",
    "    models_path=models_path, \n",
    "    checkpoint_name=model_name\n",
    ").eval().to(device)\n",
    "\n",
    "# Prepare model for XAI\n",
    "model = generate_XAI_model(model=model, device=device)"
   ]
  },
  {
   "cell_type": "code",
   "execution_count": null,
   "id": "58ee9f4c",
   "metadata": {},
   "outputs": [],
   "source": [
    "for image_batch,mask_batch,names in val_loader:\n",
    "    image_batch = image_batch.to(device)\n",
    "    mask_batch = mask_batch.to(device)\n",
    "    break"
   ]
  },
  {
   "cell_type": "code",
   "execution_count": null,
   "id": "a73cf62b",
   "metadata": {},
   "outputs": [],
   "source": [
    "pred= model(image_batch).max(dim=1)[1]\n",
    "\n",
    "fig, ax = plt.subplots(1, 3, figsize=(16, 10))\n",
    "ax[0].imshow(image_batch[0].permute(1, 2, 0).detach().cpu().numpy() * np.array([0.229, 0.224, 0.225]) + np.array([0.485, 0.456, 0.406]));_ = ax[0].axis('off'); ax[0].set_title('Image')\n",
    "ax[1].imshow(decode_segmap(mask_batch[0].detach().cpu()));_ = ax[1].axis('off'); ax[1].set_title('Mask')\n",
    "ax[2].imshow(decode_segmap(pred[0].detach().cpu()));_ = ax[2].axis('off'); ax[2].set_title('Prediction')\n",
    "fig.tight_layout()\n",
    "fig.show()\n"
   ]
  }
 ],
 "metadata": {
  "kernelspec": {
   "display_name": "camera",
   "language": "python",
   "name": "python3"
  },
  "language_info": {
   "codemirror_mode": {
    "name": "ipython",
    "version": 3
   },
   "file_extension": ".py",
   "mimetype": "text/x-python",
   "name": "python",
   "nbconvert_exporter": "python",
   "pygments_lexer": "ipython3",
   "version": "3.8.20"
  }
 },
 "nbformat": 4,
 "nbformat_minor": 5
}
